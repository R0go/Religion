{
 "cells": [
  {
   "cell_type": "markdown",
   "id": "10f89d33",
   "metadata": {},
   "source": [
    "hello!"
   ]
  },
  {
   "cell_type": "code",
   "execution_count": 7,
   "id": "fd5aa3d6",
   "metadata": {},
   "outputs": [],
   "source": [
    "import pandas as pd\n",
    "import glob"
   ]
  },
  {
   "cell_type": "code",
   "execution_count": 14,
   "id": "a00a31b7",
   "metadata": {},
   "outputs": [
    {
     "name": "stdout",
     "output_type": "stream",
     "text": [
      "['GPI_and_religion.csv', 'ISO_Country_Codes.csv', 'OECD_Alcohol_Consumption_per_Capita.csv', 'relig_iso.csv', 'WRP_global_data.csv', 'WRP_national_data.csv']\n"
     ]
    }
   ],
   "source": [
    "files = glob.glob(\"*.csv\")\n",
    "print(files)"
   ]
  },
  {
   "cell_type": "code",
   "execution_count": 22,
   "id": "701a87a2",
   "metadata": {},
   "outputs": [],
   "source": [
    "GPI_and_religion = pd.read_csv('GPI_and_religion.csv',encoding='utf-8')\n",
    "# GDP, GPI, atheist per country, 157 values\n",
    "ISO_Country_Codes = pd.read_csv('ISO_Country_Codes.csv',encoding='utf-16-be')\n",
    "#\n",
    "OECD_Alcohol = pd.read_csv('OECD_Alcohol_Consumption_per_Capita.csv',encoding='utf-8')\n",
    "#alcohol consumption throughout the years, throughout the countries\n",
    "relig_iso = pd.read_csv('relig_iso.csv',encoding='utf-8')\n",
    "#obsolete? same data as in GPI_and_religion\n",
    "WRP_global = pd.read_csv('WRP_global_data.csv',encoding='utf-8')\n",
    "#obsolete?\n",
    "WRP_national = pd.read_csv('WRP_national_data.csv',encoding='utf-8')\n",
    "#1995 values, religion over the years\n"
   ]
  },
  {
   "cell_type": "code",
   "execution_count": 36,
   "id": "0e568545",
   "metadata": {},
   "outputs": [
    {
     "name": "stdout",
     "output_type": "stream",
     "text": [
      "<class 'pandas.core.frame.DataFrame'>\n",
      "RangeIndex: 1995 entries, 0 to 1994\n",
      "Data columns (total 84 columns):\n",
      " #   Column        Non-Null Count  Dtype  \n",
      "---  ------        --------------  -----  \n",
      " 0   year          1995 non-null   int64  \n",
      " 1   state         1995 non-null   int64  \n",
      " 2   name          1995 non-null   object \n",
      " 3   chrstprot     1995 non-null   int64  \n",
      " 4   chrstcat      1995 non-null   int64  \n",
      " 5   chrstorth     1995 non-null   int64  \n",
      " 6   chrstang      1995 non-null   int64  \n",
      " 7   chrstothr     1995 non-null   int64  \n",
      " 8   chrstgen      1995 non-null   int64  \n",
      " 9   judorth       1995 non-null   int64  \n",
      " 10  jdcons        1995 non-null   int64  \n",
      " 11  judref        1993 non-null   float64\n",
      " 12  judothr       1995 non-null   int64  \n",
      " 13  judgen        1995 non-null   int64  \n",
      " 14  islmsun       1995 non-null   int64  \n",
      " 15  islmshi       1995 non-null   int64  \n",
      " 16  islmibd       1995 non-null   int64  \n",
      " 17  islmnat       1995 non-null   int64  \n",
      " 18  islmalw       1995 non-null   int64  \n",
      " 19  islmahm       1995 non-null   int64  \n",
      " 20  islmothr      1992 non-null   float64\n",
      " 21  islmgen       1995 non-null   int64  \n",
      " 22  budmah        1995 non-null   int64  \n",
      " 23  budthr        1995 non-null   int64  \n",
      " 24  budothr       1995 non-null   int64  \n",
      " 25  budgen        1995 non-null   int64  \n",
      " 26  zorogen       1995 non-null   int64  \n",
      " 27  hindgen       1995 non-null   int64  \n",
      " 28  sikhgen       1995 non-null   int64  \n",
      " 29  shntgen       1995 non-null   int64  \n",
      " 30  bahgen        1995 non-null   int64  \n",
      " 31  taogen        1995 non-null   int64  \n",
      " 32  jaingen       1995 non-null   int64  \n",
      " 33  confgen       1995 non-null   int64  \n",
      " 34  syncgen       1995 non-null   int64  \n",
      " 35  anmgen        1995 non-null   int64  \n",
      " 36  nonrelig      1995 non-null   int64  \n",
      " 37  othrgen       1995 non-null   int64  \n",
      " 38  sumrelig      1995 non-null   int64  \n",
      " 39  pop           1995 non-null   int64  \n",
      " 40  chrstprotpct  1995 non-null   float64\n",
      " 41  chrstcatpct   1995 non-null   float64\n",
      " 42  chrstorthpct  1995 non-null   float64\n",
      " 43  chrstangpct   1995 non-null   float64\n",
      " 44  chrstothrpct  1995 non-null   float64\n",
      " 45  chrstgenpct   1995 non-null   float64\n",
      " 46  judorthpct    1995 non-null   float64\n",
      " 47  judconspct    1995 non-null   float64\n",
      " 48  judrefpct     1995 non-null   float64\n",
      " 49  judothrpct    1995 non-null   float64\n",
      " 50  judgenpct     1995 non-null   float64\n",
      " 51  islmsunpct    1995 non-null   float64\n",
      " 52  islmshipct    1995 non-null   float64\n",
      " 53  islmibdpct    1995 non-null   float64\n",
      " 54  islmnatpct    1995 non-null   float64\n",
      " 55  islmalwpct    1995 non-null   float64\n",
      " 56  islmahmpct    1995 non-null   float64\n",
      " 57  islmothrpct   1995 non-null   float64\n",
      " 58  islmgenpct    1995 non-null   float64\n",
      " 59  budmahpct     1995 non-null   float64\n",
      " 60  budthrpct     1995 non-null   float64\n",
      " 61  budothrpct    1995 non-null   float64\n",
      " 62  budgenpct     1995 non-null   float64\n",
      " 63  zorogenpct    1995 non-null   float64\n",
      " 64  hindgenpct    1995 non-null   float64\n",
      " 65  sikhgenpct    1995 non-null   float64\n",
      " 66  shntgenpct    1995 non-null   float64\n",
      " 67  bahgenpct     1995 non-null   float64\n",
      " 68  taogenpct     1995 non-null   float64\n",
      " 69  jaingenpct    1995 non-null   float64\n",
      " 70  confgenpct    1995 non-null   float64\n",
      " 71  syncgenpct    1995 non-null   float64\n",
      " 72  anmgenpct     1995 non-null   float64\n",
      " 73  nonreligpct   1995 non-null   float64\n",
      " 74  othrgenpct    1995 non-null   float64\n",
      " 75  sumreligpct   1995 non-null   float64\n",
      " 76  total         1995 non-null   float64\n",
      " 77  dualrelig     1995 non-null   int64  \n",
      " 78  datatype      1995 non-null   int64  \n",
      " 79  sourcereliab  1995 non-null   int64  \n",
      " 80  recreliab     1995 non-null   int64  \n",
      " 81  reliabilevel  1995 non-null   object \n",
      " 82  Version       1995 non-null   float64\n",
      " 83  sourcecode    1995 non-null   int64  \n",
      "dtypes: float64(40), int64(42), object(2)\n",
      "memory usage: 1.3+ MB\n"
     ]
    }
   ],
   "source": [
    "WRP_national.info()"
   ]
  }
 ],
 "metadata": {
  "kernelspec": {
   "display_name": "Python 3 (ipykernel)",
   "language": "python",
   "name": "python3"
  },
  "language_info": {
   "codemirror_mode": {
    "name": "ipython",
    "version": 3
   },
   "file_extension": ".py",
   "mimetype": "text/x-python",
   "name": "python",
   "nbconvert_exporter": "python",
   "pygments_lexer": "ipython3",
   "version": "3.9.5"
  }
 },
 "nbformat": 4,
 "nbformat_minor": 5
}
