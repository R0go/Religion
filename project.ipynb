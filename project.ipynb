{
 "cells": [
  {
   "cell_type": "markdown",
   "id": "10f89d33",
   "metadata": {},
   "source": [
    "hello!\n",
    "\n",
    "question to analyze:\n",
    "predict alcohol consumption based on religion\n",
    "\n",
    "1. Inspect the datasets\n",
    "2. Cleanup the data (reduce features, consolidate features, handle nans)\n",
    "3. Analyze data distribution, trends, correlations\n",
    "4. Build a regression model"
   ]
  },
  {
   "cell_type": "code",
   "execution_count": 21,
   "id": "fd5aa3d6",
   "metadata": {},
   "outputs": [],
   "source": [
    "import pandas as pd\n",
    "import glob\n",
    "import matplotlib.pyplot as plt\n",
    "import seaborn as sns"
   ]
  },
  {
   "cell_type": "code",
   "execution_count": 22,
   "id": "a00a31b7",
   "metadata": {
    "scrolled": false
   },
   "outputs": [
    {
     "name": "stdout",
     "output_type": "stream",
     "text": [
      "['OECD_Alcohol_Consumption_per_Capita.csv', 'relig_iso.csv', 'WRP_global_data.csv', 'WRP_national_data.csv']\n"
     ]
    }
   ],
   "source": [
    "print(glob.glob(\"*.csv\"))"
   ]
  },
  {
   "cell_type": "code",
   "execution_count": 23,
   "id": "d6c0b2c2",
   "metadata": {},
   "outputs": [],
   "source": [
    "OECD_Alcohol = pd.read_csv('OECD_Alcohol_Consumption_per_Capita.csv',encoding='utf-8')\n",
    "#alcohol consumption throughout the years, throughout the countries\n",
    "WRP_national = pd.read_csv('WRP_national_data.csv',encoding='utf-8')\n",
    "#1995 values, religion over the years\n"
   ]
  },
  {
   "cell_type": "markdown",
   "id": "ed602e01",
   "metadata": {},
   "source": [
    "## Inspecting datasets"
   ]
  },
  {
   "cell_type": "markdown",
   "id": "b8ce5362",
   "metadata": {},
   "source": [
    "### OECD_Alcohol"
   ]
  },
  {
   "cell_type": "code",
   "execution_count": 24,
   "id": "3fe190e4",
   "metadata": {},
   "outputs": [
    {
     "name": "stdout",
     "output_type": "stream",
     "text": [
      "<class 'pandas.core.frame.DataFrame'>\n",
      "RangeIndex: 2751 entries, 0 to 2750\n",
      "Data columns (total 8 columns):\n",
      " #   Column         Non-Null Count  Dtype  \n",
      "---  ------         --------------  -----  \n",
      " 0   LOCATION       2751 non-null   object \n",
      " 1   INDICATOR      2751 non-null   object \n",
      " 2   SUBJECT        2751 non-null   object \n",
      " 3   MEASURE        2751 non-null   object \n",
      " 4   FREQUENCY      2751 non-null   object \n",
      " 5   TIME           2751 non-null   int64  \n",
      " 6   LITRES/CAPITA  2751 non-null   float64\n",
      " 7   Flag Codes     216 non-null    object \n",
      "dtypes: float64(1), int64(1), object(6)\n",
      "memory usage: 172.1+ KB\n"
     ]
    }
   ],
   "source": [
    "OECD_Alcohol.info()"
   ]
  },
  {
   "cell_type": "code",
   "execution_count": 28,
   "id": "bbbd2ce2",
   "metadata": {},
   "outputs": [
    {
     "data": {
      "text/plain": [
       "array([1960, 1961, 1962, 1963, 1964, 1965, 1966, 1967, 1968, 1969, 1970,\n",
       "       1971, 1972, 1973, 1974, 1975, 1976, 1977, 1978, 1979, 1980, 1981,\n",
       "       1982, 1983, 1984, 1985, 1986, 1987, 1988, 1989, 1990, 1991, 1992,\n",
       "       1993, 1994, 1995, 1996, 1997, 1998, 1999, 2000, 2001, 2002, 2003,\n",
       "       2004, 2005, 2006, 2007, 2008, 2009, 2010, 2011, 2012, 2013, 2014,\n",
       "       2015, 2016, 2017, 2018, 2019, 2020, 2021, 2022], dtype=int64)"
      ]
     },
     "execution_count": 28,
     "metadata": {},
     "output_type": "execute_result"
    }
   ],
   "source": [
    "OECD_Alcohol.head(20)"
   ]
  },
  {
   "cell_type": "code",
   "execution_count": 50,
   "id": "f07492bf",
   "metadata": {},
   "outputs": [
    {
     "name": "stdout",
     "output_type": "stream",
     "text": [
      "LOCATION unique values:\n",
      "        ['AUS' 'AUT' 'BEL' 'CAN' 'CZE' 'DNK' 'FIN' 'FRA' 'DEU' 'GRC' 'HUN' 'ISL'\n",
      " 'IRL' 'ITA' 'JPN' 'KOR' 'LUX' 'MEX' 'NLD' 'NZL' 'NOR' 'POL' 'PRT' 'SVK'\n",
      " 'ESP' 'SWE' 'CHE' 'TUR' 'GBR' 'USA' 'BRA' 'CHL' 'CHN' 'EST' 'IND' 'IDN'\n",
      " 'ISR' 'RUS' 'SVN' 'ZAF' 'COL' 'LVA' 'LTU' 'CRI' 'ARG' 'BGR' 'HRV' 'PER'\n",
      " 'ROU']\n",
      "INDICATOR unique values:\n",
      "        ['ALCOHOL']\n",
      "SUBJECT unique values:\n",
      "        ['TOT']\n",
      "MEASURE unique values:\n",
      "        ['LT_CAP15']\n",
      "FREQUENCY unique values:\n",
      "        ['A']\n",
      "Flag Codes unique values:\n",
      "        [nan 'B' 'D' 'E' 'P']\n"
     ]
    }
   ],
   "source": [
    "for col in OECD_Alcohol.columns:\n",
    "    if OECD_Alcohol[col].dtype == 'object':\n",
    "        uniques = OECD_Alcohol[col].unique()\n",
    "        print(f'''{col} unique values:\n",
    "        {uniques}''')"
   ]
  },
  {
   "cell_type": "code",
   "execution_count": 40,
   "id": "d084455f",
   "metadata": {},
   "outputs": [
    {
     "data": {
      "text/plain": [
       "array(['A'], dtype=object)"
      ]
     },
     "execution_count": 40,
     "metadata": {},
     "output_type": "execute_result"
    }
   ],
   "source": [
    "OECD_Alcohol.FREQUENCY.unique()"
   ]
  },
  {
   "cell_type": "code",
   "execution_count": 37,
   "id": "56fe870d",
   "metadata": {},
   "outputs": [
    {
     "data": {
      "text/html": [
       "<div>\n",
       "<style scoped>\n",
       "    .dataframe tbody tr th:only-of-type {\n",
       "        vertical-align: middle;\n",
       "    }\n",
       "\n",
       "    .dataframe tbody tr th {\n",
       "        vertical-align: top;\n",
       "    }\n",
       "\n",
       "    .dataframe thead th {\n",
       "        text-align: right;\n",
       "    }\n",
       "</style>\n",
       "<table border=\"1\" class=\"dataframe\">\n",
       "  <thead>\n",
       "    <tr style=\"text-align: right;\">\n",
       "      <th></th>\n",
       "      <th>LOCATION</th>\n",
       "      <th>INDICATOR</th>\n",
       "      <th>SUBJECT</th>\n",
       "      <th>MEASURE</th>\n",
       "      <th>FREQUENCY</th>\n",
       "      <th>TIME</th>\n",
       "      <th>LITRES/CAPITA</th>\n",
       "      <th>Flag Codes</th>\n",
       "    </tr>\n",
       "  </thead>\n",
       "  <tbody>\n",
       "    <tr>\n",
       "      <th>0</th>\n",
       "      <td>AUS</td>\n",
       "      <td>ALCOHOL</td>\n",
       "      <td>TOT</td>\n",
       "      <td>LT_CAP15</td>\n",
       "      <td>A</td>\n",
       "      <td>1960</td>\n",
       "      <td>9.3</td>\n",
       "      <td>NaN</td>\n",
       "    </tr>\n",
       "    <tr>\n",
       "      <th>1</th>\n",
       "      <td>AUS</td>\n",
       "      <td>ALCOHOL</td>\n",
       "      <td>TOT</td>\n",
       "      <td>LT_CAP15</td>\n",
       "      <td>A</td>\n",
       "      <td>1961</td>\n",
       "      <td>9.4</td>\n",
       "      <td>NaN</td>\n",
       "    </tr>\n",
       "    <tr>\n",
       "      <th>2</th>\n",
       "      <td>AUS</td>\n",
       "      <td>ALCOHOL</td>\n",
       "      <td>TOT</td>\n",
       "      <td>LT_CAP15</td>\n",
       "      <td>A</td>\n",
       "      <td>1962</td>\n",
       "      <td>9.5</td>\n",
       "      <td>NaN</td>\n",
       "    </tr>\n",
       "    <tr>\n",
       "      <th>3</th>\n",
       "      <td>AUS</td>\n",
       "      <td>ALCOHOL</td>\n",
       "      <td>TOT</td>\n",
       "      <td>LT_CAP15</td>\n",
       "      <td>A</td>\n",
       "      <td>1963</td>\n",
       "      <td>9.8</td>\n",
       "      <td>NaN</td>\n",
       "    </tr>\n",
       "    <tr>\n",
       "      <th>4</th>\n",
       "      <td>AUS</td>\n",
       "      <td>ALCOHOL</td>\n",
       "      <td>TOT</td>\n",
       "      <td>LT_CAP15</td>\n",
       "      <td>A</td>\n",
       "      <td>1964</td>\n",
       "      <td>10.1</td>\n",
       "      <td>NaN</td>\n",
       "    </tr>\n",
       "    <tr>\n",
       "      <th>5</th>\n",
       "      <td>AUS</td>\n",
       "      <td>ALCOHOL</td>\n",
       "      <td>TOT</td>\n",
       "      <td>LT_CAP15</td>\n",
       "      <td>A</td>\n",
       "      <td>1965</td>\n",
       "      <td>10.0</td>\n",
       "      <td>NaN</td>\n",
       "    </tr>\n",
       "    <tr>\n",
       "      <th>6</th>\n",
       "      <td>AUS</td>\n",
       "      <td>ALCOHOL</td>\n",
       "      <td>TOT</td>\n",
       "      <td>LT_CAP15</td>\n",
       "      <td>A</td>\n",
       "      <td>1966</td>\n",
       "      <td>10.3</td>\n",
       "      <td>NaN</td>\n",
       "    </tr>\n",
       "    <tr>\n",
       "      <th>7</th>\n",
       "      <td>AUS</td>\n",
       "      <td>ALCOHOL</td>\n",
       "      <td>TOT</td>\n",
       "      <td>LT_CAP15</td>\n",
       "      <td>A</td>\n",
       "      <td>1967</td>\n",
       "      <td>10.8</td>\n",
       "      <td>NaN</td>\n",
       "    </tr>\n",
       "    <tr>\n",
       "      <th>8</th>\n",
       "      <td>AUS</td>\n",
       "      <td>ALCOHOL</td>\n",
       "      <td>TOT</td>\n",
       "      <td>LT_CAP15</td>\n",
       "      <td>A</td>\n",
       "      <td>1968</td>\n",
       "      <td>11.1</td>\n",
       "      <td>NaN</td>\n",
       "    </tr>\n",
       "    <tr>\n",
       "      <th>9</th>\n",
       "      <td>AUS</td>\n",
       "      <td>ALCOHOL</td>\n",
       "      <td>TOT</td>\n",
       "      <td>LT_CAP15</td>\n",
       "      <td>A</td>\n",
       "      <td>1969</td>\n",
       "      <td>11.6</td>\n",
       "      <td>NaN</td>\n",
       "    </tr>\n",
       "    <tr>\n",
       "      <th>10</th>\n",
       "      <td>AUS</td>\n",
       "      <td>ALCOHOL</td>\n",
       "      <td>TOT</td>\n",
       "      <td>LT_CAP15</td>\n",
       "      <td>A</td>\n",
       "      <td>1970</td>\n",
       "      <td>11.6</td>\n",
       "      <td>NaN</td>\n",
       "    </tr>\n",
       "    <tr>\n",
       "      <th>11</th>\n",
       "      <td>AUS</td>\n",
       "      <td>ALCOHOL</td>\n",
       "      <td>TOT</td>\n",
       "      <td>LT_CAP15</td>\n",
       "      <td>A</td>\n",
       "      <td>1971</td>\n",
       "      <td>11.6</td>\n",
       "      <td>NaN</td>\n",
       "    </tr>\n",
       "    <tr>\n",
       "      <th>12</th>\n",
       "      <td>AUS</td>\n",
       "      <td>ALCOHOL</td>\n",
       "      <td>TOT</td>\n",
       "      <td>LT_CAP15</td>\n",
       "      <td>A</td>\n",
       "      <td>1972</td>\n",
       "      <td>12.2</td>\n",
       "      <td>NaN</td>\n",
       "    </tr>\n",
       "    <tr>\n",
       "      <th>13</th>\n",
       "      <td>AUS</td>\n",
       "      <td>ALCOHOL</td>\n",
       "      <td>TOT</td>\n",
       "      <td>LT_CAP15</td>\n",
       "      <td>A</td>\n",
       "      <td>1973</td>\n",
       "      <td>12.9</td>\n",
       "      <td>NaN</td>\n",
       "    </tr>\n",
       "    <tr>\n",
       "      <th>14</th>\n",
       "      <td>AUS</td>\n",
       "      <td>ALCOHOL</td>\n",
       "      <td>TOT</td>\n",
       "      <td>LT_CAP15</td>\n",
       "      <td>A</td>\n",
       "      <td>1974</td>\n",
       "      <td>13.1</td>\n",
       "      <td>NaN</td>\n",
       "    </tr>\n",
       "    <tr>\n",
       "      <th>15</th>\n",
       "      <td>AUS</td>\n",
       "      <td>ALCOHOL</td>\n",
       "      <td>TOT</td>\n",
       "      <td>LT_CAP15</td>\n",
       "      <td>A</td>\n",
       "      <td>1975</td>\n",
       "      <td>12.9</td>\n",
       "      <td>NaN</td>\n",
       "    </tr>\n",
       "    <tr>\n",
       "      <th>16</th>\n",
       "      <td>AUS</td>\n",
       "      <td>ALCOHOL</td>\n",
       "      <td>TOT</td>\n",
       "      <td>LT_CAP15</td>\n",
       "      <td>A</td>\n",
       "      <td>1976</td>\n",
       "      <td>13.1</td>\n",
       "      <td>NaN</td>\n",
       "    </tr>\n",
       "    <tr>\n",
       "      <th>17</th>\n",
       "      <td>AUS</td>\n",
       "      <td>ALCOHOL</td>\n",
       "      <td>TOT</td>\n",
       "      <td>LT_CAP15</td>\n",
       "      <td>A</td>\n",
       "      <td>1977</td>\n",
       "      <td>13.0</td>\n",
       "      <td>NaN</td>\n",
       "    </tr>\n",
       "    <tr>\n",
       "      <th>18</th>\n",
       "      <td>AUS</td>\n",
       "      <td>ALCOHOL</td>\n",
       "      <td>TOT</td>\n",
       "      <td>LT_CAP15</td>\n",
       "      <td>A</td>\n",
       "      <td>1978</td>\n",
       "      <td>12.7</td>\n",
       "      <td>NaN</td>\n",
       "    </tr>\n",
       "    <tr>\n",
       "      <th>19</th>\n",
       "      <td>AUS</td>\n",
       "      <td>ALCOHOL</td>\n",
       "      <td>TOT</td>\n",
       "      <td>LT_CAP15</td>\n",
       "      <td>A</td>\n",
       "      <td>1979</td>\n",
       "      <td>12.7</td>\n",
       "      <td>NaN</td>\n",
       "    </tr>\n",
       "  </tbody>\n",
       "</table>\n",
       "</div>"
      ],
      "text/plain": [
       "   LOCATION INDICATOR SUBJECT   MEASURE FREQUENCY  TIME  LITRES/CAPITA  \\\n",
       "0       AUS   ALCOHOL     TOT  LT_CAP15         A  1960            9.3   \n",
       "1       AUS   ALCOHOL     TOT  LT_CAP15         A  1961            9.4   \n",
       "2       AUS   ALCOHOL     TOT  LT_CAP15         A  1962            9.5   \n",
       "3       AUS   ALCOHOL     TOT  LT_CAP15         A  1963            9.8   \n",
       "4       AUS   ALCOHOL     TOT  LT_CAP15         A  1964           10.1   \n",
       "5       AUS   ALCOHOL     TOT  LT_CAP15         A  1965           10.0   \n",
       "6       AUS   ALCOHOL     TOT  LT_CAP15         A  1966           10.3   \n",
       "7       AUS   ALCOHOL     TOT  LT_CAP15         A  1967           10.8   \n",
       "8       AUS   ALCOHOL     TOT  LT_CAP15         A  1968           11.1   \n",
       "9       AUS   ALCOHOL     TOT  LT_CAP15         A  1969           11.6   \n",
       "10      AUS   ALCOHOL     TOT  LT_CAP15         A  1970           11.6   \n",
       "11      AUS   ALCOHOL     TOT  LT_CAP15         A  1971           11.6   \n",
       "12      AUS   ALCOHOL     TOT  LT_CAP15         A  1972           12.2   \n",
       "13      AUS   ALCOHOL     TOT  LT_CAP15         A  1973           12.9   \n",
       "14      AUS   ALCOHOL     TOT  LT_CAP15         A  1974           13.1   \n",
       "15      AUS   ALCOHOL     TOT  LT_CAP15         A  1975           12.9   \n",
       "16      AUS   ALCOHOL     TOT  LT_CAP15         A  1976           13.1   \n",
       "17      AUS   ALCOHOL     TOT  LT_CAP15         A  1977           13.0   \n",
       "18      AUS   ALCOHOL     TOT  LT_CAP15         A  1978           12.7   \n",
       "19      AUS   ALCOHOL     TOT  LT_CAP15         A  1979           12.7   \n",
       "\n",
       "   Flag Codes  \n",
       "0         NaN  \n",
       "1         NaN  \n",
       "2         NaN  \n",
       "3         NaN  \n",
       "4         NaN  \n",
       "5         NaN  \n",
       "6         NaN  \n",
       "7         NaN  \n",
       "8         NaN  \n",
       "9         NaN  \n",
       "10        NaN  \n",
       "11        NaN  \n",
       "12        NaN  \n",
       "13        NaN  \n",
       "14        NaN  \n",
       "15        NaN  \n",
       "16        NaN  \n",
       "17        NaN  \n",
       "18        NaN  \n",
       "19        NaN  "
      ]
     },
     "execution_count": 37,
     "metadata": {},
     "output_type": "execute_result"
    }
   ],
   "source": []
  },
  {
   "cell_type": "markdown",
   "id": "f4dc2eb5",
   "metadata": {},
   "source": [
    "### WRP dataset"
   ]
  },
  {
   "cell_type": "code",
   "execution_count": 30,
   "id": "34a2b9fb",
   "metadata": {},
   "outputs": [
    {
     "name": "stdout",
     "output_type": "stream",
     "text": [
      "<class 'pandas.core.frame.DataFrame'>\n",
      "RangeIndex: 1995 entries, 0 to 1994\n",
      "Data columns (total 84 columns):\n",
      " #   Column        Non-Null Count  Dtype  \n",
      "---  ------        --------------  -----  \n",
      " 0   year          1995 non-null   int64  \n",
      " 1   state         1995 non-null   int64  \n",
      " 2   name          1995 non-null   object \n",
      " 3   chrstprot     1995 non-null   int64  \n",
      " 4   chrstcat      1995 non-null   int64  \n",
      " 5   chrstorth     1995 non-null   int64  \n",
      " 6   chrstang      1995 non-null   int64  \n",
      " 7   chrstothr     1995 non-null   int64  \n",
      " 8   chrstgen      1995 non-null   int64  \n",
      " 9   judorth       1995 non-null   int64  \n",
      " 10  jdcons        1995 non-null   int64  \n",
      " 11  judref        1993 non-null   float64\n",
      " 12  judothr       1995 non-null   int64  \n",
      " 13  judgen        1995 non-null   int64  \n",
      " 14  islmsun       1995 non-null   int64  \n",
      " 15  islmshi       1995 non-null   int64  \n",
      " 16  islmibd       1995 non-null   int64  \n",
      " 17  islmnat       1995 non-null   int64  \n",
      " 18  islmalw       1995 non-null   int64  \n",
      " 19  islmahm       1995 non-null   int64  \n",
      " 20  islmothr      1992 non-null   float64\n",
      " 21  islmgen       1995 non-null   int64  \n",
      " 22  budmah        1995 non-null   int64  \n",
      " 23  budthr        1995 non-null   int64  \n",
      " 24  budothr       1995 non-null   int64  \n",
      " 25  budgen        1995 non-null   int64  \n",
      " 26  zorogen       1995 non-null   int64  \n",
      " 27  hindgen       1995 non-null   int64  \n",
      " 28  sikhgen       1995 non-null   int64  \n",
      " 29  shntgen       1995 non-null   int64  \n",
      " 30  bahgen        1995 non-null   int64  \n",
      " 31  taogen        1995 non-null   int64  \n",
      " 32  jaingen       1995 non-null   int64  \n",
      " 33  confgen       1995 non-null   int64  \n",
      " 34  syncgen       1995 non-null   int64  \n",
      " 35  anmgen        1995 non-null   int64  \n",
      " 36  nonrelig      1995 non-null   int64  \n",
      " 37  othrgen       1995 non-null   int64  \n",
      " 38  sumrelig      1995 non-null   int64  \n",
      " 39  pop           1995 non-null   int64  \n",
      " 40  chrstprotpct  1995 non-null   float64\n",
      " 41  chrstcatpct   1995 non-null   float64\n",
      " 42  chrstorthpct  1995 non-null   float64\n",
      " 43  chrstangpct   1995 non-null   float64\n",
      " 44  chrstothrpct  1995 non-null   float64\n",
      " 45  chrstgenpct   1995 non-null   float64\n",
      " 46  judorthpct    1995 non-null   float64\n",
      " 47  judconspct    1995 non-null   float64\n",
      " 48  judrefpct     1995 non-null   float64\n",
      " 49  judothrpct    1995 non-null   float64\n",
      " 50  judgenpct     1995 non-null   float64\n",
      " 51  islmsunpct    1995 non-null   float64\n",
      " 52  islmshipct    1995 non-null   float64\n",
      " 53  islmibdpct    1995 non-null   float64\n",
      " 54  islmnatpct    1995 non-null   float64\n",
      " 55  islmalwpct    1995 non-null   float64\n",
      " 56  islmahmpct    1995 non-null   float64\n",
      " 57  islmothrpct   1995 non-null   float64\n",
      " 58  islmgenpct    1995 non-null   float64\n",
      " 59  budmahpct     1995 non-null   float64\n",
      " 60  budthrpct     1995 non-null   float64\n",
      " 61  budothrpct    1995 non-null   float64\n",
      " 62  budgenpct     1995 non-null   float64\n",
      " 63  zorogenpct    1995 non-null   float64\n",
      " 64  hindgenpct    1995 non-null   float64\n",
      " 65  sikhgenpct    1995 non-null   float64\n",
      " 66  shntgenpct    1995 non-null   float64\n",
      " 67  bahgenpct     1995 non-null   float64\n",
      " 68  taogenpct     1995 non-null   float64\n",
      " 69  jaingenpct    1995 non-null   float64\n",
      " 70  confgenpct    1995 non-null   float64\n",
      " 71  syncgenpct    1995 non-null   float64\n",
      " 72  anmgenpct     1995 non-null   float64\n",
      " 73  nonreligpct   1995 non-null   float64\n",
      " 74  othrgenpct    1995 non-null   float64\n",
      " 75  sumreligpct   1995 non-null   float64\n",
      " 76  total         1995 non-null   float64\n",
      " 77  dualrelig     1995 non-null   int64  \n",
      " 78  datatype      1995 non-null   int64  \n",
      " 79  sourcereliab  1995 non-null   int64  \n",
      " 80  recreliab     1995 non-null   int64  \n",
      " 81  reliabilevel  1995 non-null   object \n",
      " 82  Version       1995 non-null   float64\n",
      " 83  sourcecode    1995 non-null   int64  \n",
      "dtypes: float64(40), int64(42), object(2)\n",
      "memory usage: 1.3+ MB\n"
     ]
    }
   ],
   "source": [
    "WRP_national.info()"
   ]
  },
  {
   "cell_type": "code",
   "execution_count": 29,
   "id": "bbff8436",
   "metadata": {},
   "outputs": [
    {
     "data": {
      "text/plain": [
       "array([1945, 1950, 1955, 1960, 1965, 1970, 1975, 1980, 1985, 1990, 1995,\n",
       "       2000, 2005, 2010], dtype=int64)"
      ]
     },
     "execution_count": 29,
     "metadata": {},
     "output_type": "execute_result"
    }
   ],
   "source": [
    "WRP_national.year.unique()"
   ]
  },
  {
   "cell_type": "code",
   "execution_count": 34,
   "id": "b2773d62",
   "metadata": {},
   "outputs": [
    {
     "data": {
      "text/plain": [
       "0       0.1635\n",
       "1       0.1482\n",
       "2       0.1404\n",
       "3       0.1193\n",
       "4       0.1020\n",
       "         ...  \n",
       "1990    0.0073\n",
       "1991    0.0066\n",
       "1992    0.0083\n",
       "1993    0.0083\n",
       "1994    0.0146\n",
       "Name: nonreligpct, Length: 1995, dtype: float64"
      ]
     },
     "execution_count": 34,
     "metadata": {},
     "output_type": "execute_result"
    }
   ],
   "source": [
    "WRP_national.nonreligpct"
   ]
  },
  {
   "cell_type": "code",
   "execution_count": 31,
   "id": "2aac070b",
   "metadata": {},
   "outputs": [
    {
     "data": {
      "image/png": "[encoded data removed]",
      "text/plain": [
       "<Figure size 432x288 with 1 Axes>"
      ]
     },
     "metadata": {
      "needs_background": "light"
     },
     "output_type": "display_data"
    },
    {
     "data": {
      "text/plain": [
       "<function matplotlib.pyplot.clf()>"
      ]
     },
     "execution_count": 31,
     "metadata": {},
     "output_type": "execute_result"
    }
   ],
   "source": [
    "plt.hist(WRP_national.nonreligpct)\n",
    "plt.show()\n",
    "plt.clf"
   ]
  },
  {
   "cell_type": "markdown",
   "id": "547b5787",
   "metadata": {},
   "source": [
    "### Combining the datasets"
   ]
  },
  {
   "cell_type": "code",
   "execution_count": null,
   "id": "b476e20f",
   "metadata": {},
   "outputs": [],
   "source": [
    "OECD_countries = OECD_Alcohol.LOCATION.unique()\n",
    "WRP_countries = WRP_national.name.unique()\n",
    "common_countries = [i for i in OECD_countries if i in WRP_countries]\n",
    "print(common_countries)"
   ]
  },
  {
   "cell_type": "code",
   "execution_count": null,
   "id": "c2ce2e77",
   "metadata": {},
   "outputs": [],
   "source": []
  }
 ],
 "metadata": {
  "kernelspec": {
   "display_name": "Python 3 (ipykernel)",
   "language": "python",
   "name": "python3"
  },
  "language_info": {
   "codemirror_mode": {
    "name": "ipython",
    "version": 3
   },
   "file_extension": ".py",
   "mimetype": "text/x-python",
   "name": "python",
   "nbconvert_exporter": "python",
   "pygments_lexer": "ipython3",
   "version": "3.9.5"
  }
 },
 "nbformat": 4,
 "nbformat_minor": 5
}
