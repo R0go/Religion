{
 "cells": [
  {
   "cell_type": "markdown",
   "id": "10f89d33",
   "metadata": {},
   "source": [
    "hello!\n",
    "\n",
    "question to analyze:\n",
    "predict alcohol consumption based on religion\n",
    "\n",
    "1. Inspect the datasets\n",
    "2. Cleanup the data (reduce features, consolidate features, handle nans)\n",
    "3. Analyze data distribution, trends, correlations\n",
    "4. Build a regression model"
   ]
  },
  {
   "cell_type": "code",
   "execution_count": 12,
   "id": "fd5aa3d6",
   "metadata": {},
   "outputs": [],
   "source": [
    "import pandas as pd\n",
    "import glob\n",
    "import matplotlib.pyplot as plt\n",
    "import seaborn as sns"
   ]
  },
  {
   "cell_type": "code",
   "execution_count": 20,
   "id": "a00a31b7",
   "metadata": {
    "scrolled": false
   },
   "outputs": [
    {
     "name": "stdout",
     "output_type": "stream",
     "text": [
      "['OECD_Alcohol_Consumption_per_Capita.csv', 'relig_iso.csv', 'WRP_global_data.csv', 'WRP_national_data.csv']\n"
     ]
    }
   ],
   "source": [
    "print(glob.glob(\"*.csv\"))"
   ]
  },
  {
   "cell_type": "code",
   "execution_count": 3,
   "id": "d6c0b2c2",
   "metadata": {},
   "outputs": [],
   "source": [
    "OECD_Alcohol = pd.read_csv('OECD_Alcohol_Consumption_per_Capita.csv',encoding='utf-8')\n",
    "#alcohol consumption throughout the years, throughout the countries\n",
    "WRP_national = pd.read_csv('WRP_national_data.csv',encoding='utf-8')\n",
    "#1995 values, religion over the years\n"
   ]
  },
  {
   "cell_type": "markdown",
   "id": "99c62914",
   "metadata": {},
   "source": [
    "## Inspecting datasets"
   ]
  },
  {
   "cell_type": "markdown",
   "id": "d4a46cd5",
   "metadata": {},
   "source": [
    "### OECD_Alcohol"
   ]
  },
  {
   "cell_type": "code",
   "execution_count": 11,
   "id": "8fd70478",
   "metadata": {},
   "outputs": [
    {
     "name": "stdout",
     "output_type": "stream",
     "text": [
      "<class 'pandas.core.frame.DataFrame'>\n",
      "RangeIndex: 157 entries, 0 to 156\n",
      "Data columns (total 5 columns):\n",
      " #   Column                    Non-Null Count  Dtype  \n",
      "---  ------                    --------------  -----  \n",
      " 0   country                   157 non-null    object \n",
      " 1   gdp_pc                    157 non-null    int64  \n",
      " 2   gpi_rank                  157 non-null    int64  \n",
      " 3   gpi_score                 157 non-null    float64\n",
      " 4   percentage_non_religious  157 non-null    float64\n",
      "dtypes: float64(2), int64(2), object(1)\n",
      "memory usage: 6.3+ KB\n"
     ]
    }
   ],
   "source": [
    "GPI_and_religion.info()"
   ]
  },
  {
   "cell_type": "code",
   "execution_count": 14,
   "id": "9494f193",
   "metadata": {},
   "outputs": [
    {
     "name": "stdout",
     "output_type": "stream",
     "text": [
      "157\n"
     ]
    }
   ],
   "source": [
    "#checking if any countries are duplicated\n",
    "print(GPI_and_religion.country.nunique())"
   ]
  },
  {
   "cell_type": "code",
   "execution_count": 19,
   "id": "051ab588",
   "metadata": {},
   "outputs": [
    {
     "data": {
      "image/png": "[encoded data removed]",
      "text/plain": [
       "<Figure size 432x288 with 1 Axes>"
      ]
     },
     "metadata": {
      "needs_background": "light"
     },
     "output_type": "display_data"
    },
    {
     "data": {
      "text/plain": [
       "<function matplotlib.pyplot.clf()>"
      ]
     },
     "execution_count": 19,
     "metadata": {},
     "output_type": "execute_result"
    }
   ],
   "source": [
    "plt.hist(GPI_and_religion.percentage_non_religious)\n",
    "plt.show()\n",
    "plt.clf"
   ]
  },
  {
   "cell_type": "code",
   "execution_count": null,
   "id": "418230a9",
   "metadata": {},
   "outputs": [],
   "source": []
  },
  {
   "cell_type": "code",
   "execution_count": 6,
   "id": "3fe190e4",
   "metadata": {},
   "outputs": [
    {
     "name": "stdout",
     "output_type": "stream",
     "text": [
      "<class 'pandas.core.frame.DataFrame'>\n",
      "RangeIndex: 2751 entries, 0 to 2750\n",
      "Data columns (total 8 columns):\n",
      " #   Column         Non-Null Count  Dtype  \n",
      "---  ------         --------------  -----  \n",
      " 0   LOCATION       2751 non-null   object \n",
      " 1   INDICATOR      2751 non-null   object \n",
      " 2   SUBJECT        2751 non-null   object \n",
      " 3   MEASURE        2751 non-null   object \n",
      " 4   FREQUENCY      2751 non-null   object \n",
      " 5   TIME           2751 non-null   int64  \n",
      " 6   LITRES/CAPITA  2751 non-null   float64\n",
      " 7   Flag Codes     216 non-null    object \n",
      "dtypes: float64(1), int64(1), object(6)\n",
      "memory usage: 172.1+ KB\n"
     ]
    }
   ],
   "source": [
    "OECD_Alcohol.info()"
   ]
  },
  {
   "cell_type": "code",
   "execution_count": 10,
   "id": "34a2b9fb",
   "metadata": {},
   "outputs": [
    {
     "name": "stdout",
     "output_type": "stream",
     "text": [
      "['AUS', 'BEL', 'CAN', 'CZE', 'FIN', 'GRC', 'HUN', 'ITA', 'JPN', 'LUX', 'MEX', 'NOR', 'POL', 'TUR', 'USA', 'BRA', 'CHL', 'CHN', 'EST', 'IND', 'ISR', 'RUS', 'COL', 'ARG', 'PER']\n"
     ]
    }
   ],
   "source": [
    "OECD_countries = OECD_Alcohol.LOCATION.unique()\n",
    "WRP_countries = WRP_national.name.unique()\n",
    "common_countries = [i for i in OECD_countries if i in WRP_countries]\n",
    "print(common_countries)"
   ]
  },
  {
   "cell_type": "code",
   "execution_count": 8,
   "id": "bbff8436",
   "metadata": {},
   "outputs": [
    {
     "name": "stdout",
     "output_type": "stream",
     "text": [
      "<class 'pandas.core.frame.DataFrame'>\n",
      "RangeIndex: 1995 entries, 0 to 1994\n",
      "Data columns (total 84 columns):\n",
      " #   Column        Non-Null Count  Dtype  \n",
      "---  ------        --------------  -----  \n",
      " 0   year          1995 non-null   int64  \n",
      " 1   state         1995 non-null   int64  \n",
      " 2   name          1995 non-null   object \n",
      " 3   chrstprot     1995 non-null   int64  \n",
      " 4   chrstcat      1995 non-null   int64  \n",
      " 5   chrstorth     1995 non-null   int64  \n",
      " 6   chrstang      1995 non-null   int64  \n",
      " 7   chrstothr     1995 non-null   int64  \n",
      " 8   chrstgen      1995 non-null   int64  \n",
      " 9   judorth       1995 non-null   int64  \n",
      " 10  jdcons        1995 non-null   int64  \n",
      " 11  judref        1993 non-null   float64\n",
      " 12  judothr       1995 non-null   int64  \n",
      " 13  judgen        1995 non-null   int64  \n",
      " 14  islmsun       1995 non-null   int64  \n",
      " 15  islmshi       1995 non-null   int64  \n",
      " 16  islmibd       1995 non-null   int64  \n",
      " 17  islmnat       1995 non-null   int64  \n",
      " 18  islmalw       1995 non-null   int64  \n",
      " 19  islmahm       1995 non-null   int64  \n",
      " 20  islmothr      1992 non-null   float64\n",
      " 21  islmgen       1995 non-null   int64  \n",
      " 22  budmah        1995 non-null   int64  \n",
      " 23  budthr        1995 non-null   int64  \n",
      " 24  budothr       1995 non-null   int64  \n",
      " 25  budgen        1995 non-null   int64  \n",
      " 26  zorogen       1995 non-null   int64  \n",
      " 27  hindgen       1995 non-null   int64  \n",
      " 28  sikhgen       1995 non-null   int64  \n",
      " 29  shntgen       1995 non-null   int64  \n",
      " 30  bahgen        1995 non-null   int64  \n",
      " 31  taogen        1995 non-null   int64  \n",
      " 32  jaingen       1995 non-null   int64  \n",
      " 33  confgen       1995 non-null   int64  \n",
      " 34  syncgen       1995 non-null   int64  \n",
      " 35  anmgen        1995 non-null   int64  \n",
      " 36  nonrelig      1995 non-null   int64  \n",
      " 37  othrgen       1995 non-null   int64  \n",
      " 38  sumrelig      1995 non-null   int64  \n",
      " 39  pop           1995 non-null   int64  \n",
      " 40  chrstprotpct  1995 non-null   float64\n",
      " 41  chrstcatpct   1995 non-null   float64\n",
      " 42  chrstorthpct  1995 non-null   float64\n",
      " 43  chrstangpct   1995 non-null   float64\n",
      " 44  chrstothrpct  1995 non-null   float64\n",
      " 45  chrstgenpct   1995 non-null   float64\n",
      " 46  judorthpct    1995 non-null   float64\n",
      " 47  judconspct    1995 non-null   float64\n",
      " 48  judrefpct     1995 non-null   float64\n",
      " 49  judothrpct    1995 non-null   float64\n",
      " 50  judgenpct     1995 non-null   float64\n",
      " 51  islmsunpct    1995 non-null   float64\n",
      " 52  islmshipct    1995 non-null   float64\n",
      " 53  islmibdpct    1995 non-null   float64\n",
      " 54  islmnatpct    1995 non-null   float64\n",
      " 55  islmalwpct    1995 non-null   float64\n",
      " 56  islmahmpct    1995 non-null   float64\n",
      " 57  islmothrpct   1995 non-null   float64\n",
      " 58  islmgenpct    1995 non-null   float64\n",
      " 59  budmahpct     1995 non-null   float64\n",
      " 60  budthrpct     1995 non-null   float64\n",
      " 61  budothrpct    1995 non-null   float64\n",
      " 62  budgenpct     1995 non-null   float64\n",
      " 63  zorogenpct    1995 non-null   float64\n",
      " 64  hindgenpct    1995 non-null   float64\n",
      " 65  sikhgenpct    1995 non-null   float64\n",
      " 66  shntgenpct    1995 non-null   float64\n",
      " 67  bahgenpct     1995 non-null   float64\n",
      " 68  taogenpct     1995 non-null   float64\n",
      " 69  jaingenpct    1995 non-null   float64\n",
      " 70  confgenpct    1995 non-null   float64\n",
      " 71  syncgenpct    1995 non-null   float64\n",
      " 72  anmgenpct     1995 non-null   float64\n",
      " 73  nonreligpct   1995 non-null   float64\n",
      " 74  othrgenpct    1995 non-null   float64\n",
      " 75  sumreligpct   1995 non-null   float64\n",
      " 76  total         1995 non-null   float64\n",
      " 77  dualrelig     1995 non-null   int64  \n",
      " 78  datatype      1995 non-null   int64  \n",
      " 79  sourcereliab  1995 non-null   int64  \n",
      " 80  recreliab     1995 non-null   int64  \n",
      " 81  reliabilevel  1995 non-null   object \n",
      " 82  Version       1995 non-null   float64\n",
      " 83  sourcecode    1995 non-null   int64  \n",
      "dtypes: float64(40), int64(42), object(2)\n",
      "memory usage: 1.3+ MB\n"
     ]
    }
   ],
   "source": [
    "WRP_national.info()"
   ]
  },
  {
   "cell_type": "code",
   "execution_count": 9,
   "id": "20d858a5",
   "metadata": {},
   "outputs": [
    {
     "data": {
      "text/plain": [
       "array(['USA', 'CAN', 'BHM', 'CUB', 'HAI', 'DOM', 'JAM', 'TRI', 'BAR',\n",
       "       'DMA', 'GRN', 'SLU', 'SVG', 'AAB', 'SKN', 'MEX', 'BLZ', 'GUA',\n",
       "       'HON', 'SAL', 'NIC', 'COS', 'PAN', 'COL', 'VEN', 'GUY', 'SUR',\n",
       "       'ECU', 'PER', 'BRA', 'BOL', 'PAR', 'CHL', 'ARG', 'URU', 'UKG',\n",
       "       'IRE', 'NTH', 'BEL', 'LUX', 'FRN', 'MNC', 'LIE', 'SWZ', 'SPN',\n",
       "       'AND', 'POR', 'GMY', 'GFR', 'GDR', 'POL', 'AUS', 'HUN', 'CZE',\n",
       "       'CZR', 'SLO', 'ITA', 'SNM', 'MLT', 'ALB', 'MNG', 'MAC', 'CRO',\n",
       "       'YUG', 'BOS', 'KOS', 'SLV', 'GRC', 'CYP', 'BUL', 'MLD', 'ROM',\n",
       "       'RUS', 'EST', 'LAT', 'LIT', 'UKR', 'BLR', 'ARM', 'GRG', 'AZE',\n",
       "       'FIN', 'SWD', 'NOR', 'DEN', 'ICE', 'CAP', 'STP', 'GNB', 'EQG',\n",
       "       'GAM', 'MLI', 'SEN', 'BEN', 'MAA', 'NIR', 'CDI', 'GUI', 'BFO',\n",
       "       'LBR', 'SIE', 'GHA', 'TOG', 'CAO', 'NIG', 'GAB', 'CEN', 'CHA',\n",
       "       'CON', 'DRC', 'UGA', 'KEN', 'TAZ', 'BUI', 'RWA', 'SOM', 'DJI',\n",
       "       'ETH', 'ERI', 'ANG', 'MZM', 'ZAM', 'ZIM', 'MAW', 'SAF', 'NAM',\n",
       "       'LES', 'BOT', 'SWA', 'MAG', 'COM', 'MAS', 'SEY', 'MOR', 'ALG',\n",
       "       'TUN', 'LIB', 'SUD', 'IRN', 'TUR', 'IRQ', 'EGY', 'SYR', 'LEB',\n",
       "       'JOR', 'ISR', 'SAU', 'YAR', 'YEM', 'YPR', 'KUW', 'BAH', 'QAT',\n",
       "       'UAE', 'OMA', 'AFG', 'TKM', 'TAJ', 'KYR', 'UZB', 'KZK', 'CHN',\n",
       "       'MON', 'TAW', 'PRK', 'ROK', 'JPN', 'IND', 'BHU', 'PAK', 'BNG',\n",
       "       'MYA', 'SRI', 'MAD', 'NEP', 'THI', 'CAM', 'LAO', 'DRV', 'RVN',\n",
       "       'MAL', 'SIN', 'BRU', 'PHI', 'INS', 'ETM', 'AUL', 'PNG', 'NEW',\n",
       "       'VAN', 'SOL', 'KIR', 'TUV', 'FIJ', 'TON', 'NAU', 'MSI', 'PAL',\n",
       "       'FSM', 'WSM'], dtype=object)"
      ]
     },
     "execution_count": 9,
     "metadata": {},
     "output_type": "execute_result"
    }
   ],
   "source": []
  }
 ],
 "metadata": {
  "kernelspec": {
   "display_name": "Python 3 (ipykernel)",
   "language": "python",
   "name": "python3"
  },
  "language_info": {
   "codemirror_mode": {
    "name": "ipython",
    "version": 3
   },
   "file_extension": ".py",
   "mimetype": "text/x-python",
   "name": "python",
   "nbconvert_exporter": "python",
   "pygments_lexer": "ipython3",
   "version": "3.9.5"
  }
 },
 "nbformat": 4,
 "nbformat_minor": 5
}
