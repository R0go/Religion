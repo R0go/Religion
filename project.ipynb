{
 "cells": [
  {
   "cell_type": "markdown",
   "id": "10f89d33",
   "metadata": {},
   "source": [
    "hello!"
   ]
  },
  {
   "cell_type": "code",
   "execution_count": 7,
   "id": "fd5aa3d6",
   "metadata": {},
   "outputs": [],
   "source": [
    "import pandas as pd\n",
    "import glob"
   ]
  },
  {
   "cell_type": "code",
   "execution_count": 14,
   "id": "a00a31b7",
   "metadata": {},
   "outputs": [
    {
     "name": "stdout",
     "output_type": "stream",
     "text": [
      "['GPI_and_religion.csv', 'ISO_Country_Codes.csv', 'OECD_Alcohol_Consumption_per_Capita.csv', 'relig_iso.csv', 'WRP_global_data.csv', 'WRP_national_data.csv']\n"
     ]
    }
   ],
   "source": [
    "files = glob.glob(\"*.csv\")\n",
    "print(files)"
   ]
  },
  {
   "cell_type": "code",
   "execution_count": 22,
   "id": "d6c0b2c2",
   "metadata": {},
   "outputs": [],
   "source": [
    "GPI_and_religion = pd.read_csv('GPI_and_religion.csv',encoding='utf-8')\n",
    "# GDP, GPI, atheist per country, 157 values\n",
    "OECD_Alcohol = pd.read_csv('OECD_Alcohol_Consumption_per_Capita.csv',encoding='utf-8')\n",
    "#alcohol consumption throughout the years, throughout the countries\n",
    "WRP_national = pd.read_csv('WRP_national_data.csv',encoding='utf-8')\n",
    "#1995 values, religion over the years\n"
   ]
  },
  {
   "cell_type": "code",
   "execution_count": 54,
   "id": "3fe190e4",
   "metadata": {},
   "outputs": [
    {
     "data": {
      "text/plain": [
       "12    0.175\n",
       "13    0.190\n",
       "Name: nonreligpct, dtype: float64"
      ]
     },
     "execution_count": 54,
     "metadata": {},
     "output_type": "execute_result"
    }
   ],
   "source": [
    "WRP_national.nonreligpct[(WRP_national['year'] > 2000) & (WRP_national['name']=='USA')]"
   ]
  },
  {
   "cell_type": "code",
   "execution_count": 48,
   "id": "34a2b9fb",
   "metadata": {},
   "outputs": [
    {
     "name": "stdout",
     "output_type": "stream",
     "text": [
      "0         2\n",
      "1         2\n",
      "2         2\n",
      "3         2\n",
      "4         2\n",
      "       ... \n",
      "1990    990\n",
      "1991    990\n",
      "1992    990\n",
      "1993    990\n",
      "1994    990\n",
      "Name: state, Length: 1995, dtype: int64\n"
     ]
    }
   ],
   "source": [
    "print(WRP_national['state'])"
   ]
  },
  {
   "cell_type": "code",
   "execution_count": 51,
   "id": "bbff8436",
   "metadata": {},
   "outputs": [
    {
     "data": {
      "text/plain": [
       "array(['USA', 'CAN', 'BHM', 'CUB', 'HAI', 'DOM', 'JAM', 'TRI', 'BAR',\n",
       "       'DMA', 'GRN', 'SLU', 'SVG', 'AAB', 'SKN', 'MEX', 'BLZ', 'GUA',\n",
       "       'HON', 'SAL', 'NIC', 'COS', 'PAN', 'COL', 'VEN', 'GUY', 'SUR',\n",
       "       'ECU', 'PER', 'BRA', 'BOL', 'PAR', 'CHL', 'ARG', 'URU', 'UKG',\n",
       "       'IRE', 'NTH', 'BEL', 'LUX', 'FRN', 'MNC', 'LIE', 'SWZ', 'SPN',\n",
       "       'AND', 'POR', 'GMY', 'GFR', 'GDR', 'POL', 'AUS', 'HUN', 'CZE',\n",
       "       'CZR', 'SLO', 'ITA', 'SNM', 'MLT', 'ALB', 'MNG', 'MAC', 'CRO',\n",
       "       'YUG', 'BOS', 'KOS', 'SLV', 'GRC', 'CYP', 'BUL', 'MLD', 'ROM',\n",
       "       'RUS', 'EST', 'LAT', 'LIT', 'UKR', 'BLR', 'ARM', 'GRG', 'AZE',\n",
       "       'FIN', 'SWD', 'NOR', 'DEN', 'ICE', 'CAP', 'STP', 'GNB', 'EQG',\n",
       "       'GAM', 'MLI', 'SEN', 'BEN', 'MAA', 'NIR', 'CDI', 'GUI', 'BFO',\n",
       "       'LBR', 'SIE', 'GHA', 'TOG', 'CAO', 'NIG', 'GAB', 'CEN', 'CHA',\n",
       "       'CON', 'DRC', 'UGA', 'KEN', 'TAZ', 'BUI', 'RWA', 'SOM', 'DJI',\n",
       "       'ETH', 'ERI', 'ANG', 'MZM', 'ZAM', 'ZIM', 'MAW', 'SAF', 'NAM',\n",
       "       'LES', 'BOT', 'SWA', 'MAG', 'COM', 'MAS', 'SEY', 'MOR', 'ALG',\n",
       "       'TUN', 'LIB', 'SUD', 'IRN', 'TUR', 'IRQ', 'EGY', 'SYR', 'LEB',\n",
       "       'JOR', 'ISR', 'SAU', 'YAR', 'YEM', 'YPR', 'KUW', 'BAH', 'QAT',\n",
       "       'UAE', 'OMA', 'AFG', 'TKM', 'TAJ', 'KYR', 'UZB', 'KZK', 'CHN',\n",
       "       'MON', 'TAW', 'PRK', 'ROK', 'JPN', 'IND', 'BHU', 'PAK', 'BNG',\n",
       "       'MYA', 'SRI', 'MAD', 'NEP', 'THI', 'CAM', 'LAO', 'DRV', 'RVN',\n",
       "       'MAL', 'SIN', 'BRU', 'PHI', 'INS', 'ETM', 'AUL', 'PNG', 'NEW',\n",
       "       'VAN', 'SOL', 'KIR', 'TUV', 'FIJ', 'TON', 'NAU', 'MSI', 'PAL',\n",
       "       'FSM', 'WSM'], dtype=object)"
      ]
     },
     "execution_count": 51,
     "metadata": {},
     "output_type": "execute_result"
    }
   ],
   "source": [
    "WRP_national.name.unique()"
   ]
  }
 ],
 "metadata": {
  "kernelspec": {
   "display_name": "Python 3 (ipykernel)",
   "language": "python",
   "name": "python3"
  },
  "language_info": {
   "codemirror_mode": {
    "name": "ipython",
    "version": 3
   },
   "file_extension": ".py",
   "mimetype": "text/x-python",
   "name": "python",
   "nbconvert_exporter": "python",
   "pygments_lexer": "ipython3",
   "version": "3.9.5"
  }
 },
 "nbformat": 4,
 "nbformat_minor": 5
}
